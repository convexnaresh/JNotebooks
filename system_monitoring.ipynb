{
  "nbformat": 4,
  "nbformat_minor": 0,
  "metadata": {
    "colab": {
      "name": "system-monitoring.ipynb",
      "provenance": [],
      "collapsed_sections": []
    },
    "kernelspec": {
      "name": "python3",
      "display_name": "Python 3"
    },
    "language_info": {
      "name": "python"
    }
  },
  "cells": [
    {
      "cell_type": "markdown",
      "source": [
        "## System Monitoring\n",
        "We will explore the following commands.\n",
        "- du\n",
        "- top\n",
        "- ps\n",
        "- uname\n",
        "- lostat\n",
        "- ps\n",
        "- vmstat\n",
        "- lsof\n",
        "- free\n",
        "- lscpu\n",
        "\n",
        "**Note:** The directive **'%%bash'** is used at the top of Jupyter Notebook cells to execute Linux/Unix commands. Please try the commands in this notebook on your Unix/Linux terminal. If you are running the commands on your terminal, please do not copy '%%bash' directive."
      ],
      "metadata": {
        "id": "5uh20r0jNRmU"
      }
    },
    {
      "cell_type": "code",
      "source": [
        "%%bash\n",
        "lscpu\n",
        "echo \"====\"\n",
        "netstat -tulpn"
      ],
      "metadata": {
        "colab": {
          "base_uri": "https://localhost:8080/"
        },
        "id": "WWQ9djiENT0Z",
        "outputId": "bffb0486-6d7e-4673-d200-6dc8f259dad8"
      },
      "execution_count": null,
      "outputs": [
        {
          "output_type": "stream",
          "name": "stdout",
          "text": [
            "Architecture:        x86_64\n",
            "CPU op-mode(s):      32-bit, 64-bit\n",
            "Byte Order:          Little Endian\n",
            "CPU(s):              2\n",
            "On-line CPU(s) list: 0,1\n",
            "Thread(s) per core:  2\n",
            "Core(s) per socket:  1\n",
            "Socket(s):           1\n",
            "NUMA node(s):        1\n",
            "Vendor ID:           GenuineIntel\n",
            "CPU family:          6\n",
            "Model:               79\n",
            "Model name:          Intel(R) Xeon(R) CPU @ 2.20GHz\n",
            "Stepping:            0\n",
            "CPU MHz:             2199.998\n",
            "BogoMIPS:            4399.99\n",
            "Hypervisor vendor:   KVM\n",
            "Virtualization type: full\n",
            "L1d cache:           32K\n",
            "L1i cache:           32K\n",
            "L2 cache:            256K\n",
            "L3 cache:            56320K\n",
            "NUMA node0 CPU(s):   0,1\n",
            "Flags:               fpu vme de pse tsc msr pae mce cx8 apic sep mtrr pge mca cmov pat pse36 clflush mmx fxsr sse sse2 ss ht syscall nx pdpe1gb rdtscp lm constant_tsc rep_good nopl xtopology nonstop_tsc cpuid tsc_known_freq pni pclmulqdq ssse3 fma cx16 pcid sse4_1 sse4_2 x2apic movbe popcnt aes xsave avx f16c rdrand hypervisor lahf_lm abm 3dnowprefetch invpcid_single ssbd ibrs ibpb stibp fsgsbase tsc_adjust bmi1 hle avx2 smep bmi2 erms invpcid rtm rdseed adx smap xsaveopt arat md_clear arch_capabilities\n",
            "====\n",
            "Active Internet connections (only servers)\n",
            "Proto Recv-Q Send-Q Local Address           Foreign Address         State       PID/Program name    \n",
            "tcp        0      0 127.0.0.1:58781         0.0.0.0:*               LISTEN      61/python3          \n",
            "tcp        0      0 0.0.0.0:3453            0.0.0.0:*               LISTEN      32/python3          \n",
            "tcp        0      0 127.0.0.11:43839        0.0.0.0:*               LISTEN      -                   \n",
            "tcp        0      0 127.0.0.1:19264         0.0.0.0:*               LISTEN      81/python3          \n",
            "tcp        0      0 127.0.0.1:40705         0.0.0.0:*               LISTEN      81/python3          \n",
            "tcp        0      0 127.0.0.1:35297         0.0.0.0:*               LISTEN      61/python3          \n",
            "tcp        0      0 127.0.0.1:34755         0.0.0.0:*               LISTEN      61/python3          \n",
            "tcp        0      0 127.0.0.1:54823         0.0.0.0:*               LISTEN      61/python3          \n",
            "tcp        0      0 172.28.0.2:9000         0.0.0.0:*               LISTEN      45/python2          \n",
            "tcp        0      0 127.0.0.1:46539         0.0.0.0:*               LISTEN      61/python3          \n",
            "tcp        0      0 127.0.0.1:42741         0.0.0.0:*               LISTEN      81/python3          \n",
            "tcp        0      0 127.0.0.1:55227         0.0.0.0:*               LISTEN      61/python3          \n",
            "tcp6       0      0 :::3453                 :::*                    LISTEN      32/python3          \n",
            "tcp6       0      0 :::8080                 :::*                    LISTEN      7/node              \n",
            "udp        0      0 127.0.0.11:50470        0.0.0.0:*                           -                   \n"
          ]
        }
      ]
    },
    {
      "cell_type": "code",
      "source": [
        "%%bash\n",
        "cat /etc/os-release"
      ],
      "metadata": {
        "colab": {
          "base_uri": "https://localhost:8080/"
        },
        "id": "4X-BlTFvNW94",
        "outputId": "c3b3e08b-c1b4-4b6d-f3ad-0211aa522a93"
      },
      "execution_count": null,
      "outputs": [
        {
          "output_type": "stream",
          "name": "stdout",
          "text": [
            "NAME=\"Ubuntu\"\n",
            "VERSION=\"18.04.5 LTS (Bionic Beaver)\"\n",
            "ID=ubuntu\n",
            "ID_LIKE=debian\n",
            "PRETTY_NAME=\"Ubuntu 18.04.5 LTS\"\n",
            "VERSION_ID=\"18.04\"\n",
            "HOME_URL=\"https://www.ubuntu.com/\"\n",
            "SUPPORT_URL=\"https://help.ubuntu.com/\"\n",
            "BUG_REPORT_URL=\"https://bugs.launchpad.net/ubuntu/\"\n",
            "PRIVACY_POLICY_URL=\"https://www.ubuntu.com/legal/terms-and-policies/privacy-policy\"\n",
            "VERSION_CODENAME=bionic\n",
            "UBUNTU_CODENAME=bionic\n"
          ]
        }
      ]
    },
    {
      "cell_type": "code",
      "source": [
        "%%bash\n",
        "uname -r\n",
        "echo\n",
        "lsb_release -a\n",
        "echo\n",
        "cat /proc/version"
      ],
      "metadata": {
        "colab": {
          "base_uri": "https://localhost:8080/"
        },
        "id": "iCSpejWDPXnW",
        "outputId": "818141be-353b-4a2b-fb45-da840b3bf844"
      },
      "execution_count": null,
      "outputs": [
        {
          "output_type": "stream",
          "name": "stdout",
          "text": [
            "5.4.144+\n",
            "\n",
            "Distributor ID:\tUbuntu\n",
            "Description:\tUbuntu 18.04.5 LTS\n",
            "Release:\t18.04\n",
            "Codename:\tbionic\n",
            "\n",
            "Linux version 5.4.144+ (builder@c08232d9159f) (Chromium OS 12.0_pre408248_p20201125-r7 clang version 12.0.0 (/var/tmp/portage/sys-devel/llvm-12.0_pre408248_p20201125-r7/work/llvm-12.0_pre408248_p20201125/clang f402e682d0ef5598eeffc9a21a691b03e602ff58)) #1 SMP Tue Dec 7 09:58:10 PST 2021\n"
          ]
        },
        {
          "output_type": "stream",
          "name": "stderr",
          "text": [
            "No LSB modules are available.\n"
          ]
        }
      ]
    },
    {
      "cell_type": "code",
      "source": [
        "%%bash\n",
        "#apt install htop\n",
        "sudo apt install iputils-ping"
      ],
      "metadata": {
        "colab": {
          "base_uri": "https://localhost:8080/"
        },
        "id": "eMEm1mJ3Pc8B",
        "outputId": "df9243e3-b10d-49e0-bce0-27118b3fe9f1"
      },
      "execution_count": null,
      "outputs": [
        {
          "output_type": "stream",
          "name": "stdout",
          "text": [
            "Reading package lists...\n",
            "Building dependency tree...\n",
            "Reading state information...\n",
            "iputils-ping is already the newest version (3:20161105-1ubuntu3).\n",
            "0 upgraded, 0 newly installed, 0 to remove and 37 not upgraded.\n"
          ]
        },
        {
          "output_type": "stream",
          "name": "stderr",
          "text": [
            "\n",
            "WARNING: apt does not have a stable CLI interface. Use with caution in scripts.\n",
            "\n"
          ]
        }
      ]
    },
    {
      "cell_type": "code",
      "source": [
        "%%bash\n",
        "ps -aux"
      ],
      "metadata": {
        "colab": {
          "base_uri": "https://localhost:8080/"
        },
        "id": "Q5L-w8yhP38w",
        "outputId": "cb95f759-f0b2-458a-967d-e5bbd23143a2"
      },
      "execution_count": null,
      "outputs": [
        {
          "output_type": "stream",
          "name": "stdout",
          "text": [
            "USER         PID %CPU %MEM    VSZ   RSS TTY      STAT START   TIME COMMAND\n",
            "root           1  0.0  0.0    992     4 ?        Ss   02:53   0:00 /sbin/docker-init -- /datalab/run.sh\n",
            "root           7  0.2  0.3 342116 52840 ?        Sl   02:53   0:03 /tools/node/bin/node /datalab/web/app.js\n",
            "root          18  0.0  0.0  35892  4760 ?        Ss   02:53   0:00 tail -n +0 -F /root/.config/Google/DriveFS/Logs/dpb.txt /root/.config/Google/DriveFS/Logs/drive_fs.txt\n",
            "root          31  0.5  0.0      0     0 ?        Z    02:54   0:06 [python3] <defunct>\n",
            "root          32  0.0  0.3 162452 41060 ?        S    02:54   0:00 python3 /usr/local/bin/colab-fileshim.py\n",
            "root          45  0.3  0.4 193896 60592 ?        Sl   02:54   0:03 /usr/bin/python2 /usr/local/bin/jupyter-notebook --ip=\"172.28.0.2\" --port=9000 --FileContentsManager.root_dir=\"/\" --MappingKernelManager.root_dir=\"/content\"\n",
            "root          46  0.1  0.0 708200 10872 ?        Sl   02:54   0:01 /usr/local/bin/dap_multiplexer --domain_socket_path=/tmp/debugger_cii4tansz\n",
            "root          61  1.0  1.1 762152 155628 ?       Ssl  02:54   0:10 /usr/bin/python3 -m ipykernel_launcher -f /root/.local/share/jupyter/runtime/kernel-d1abc4cf-feed-4a66-84b7-fc0888189eeb.json\n",
            "root          81  0.3  0.1 128668 16092 ?        Sl   02:54   0:03 /usr/bin/python3 /usr/local/lib/python3.7/dist-packages/debugpy/adapter --for-server 38381 --host 127.0.0.1 --port 19264 --server-access-token 6c000163220a4a1b77a0dd5f0af019b4844dea3c62a0e072de32677438de5d1a\n",
            "root        1605  0.0  0.0  39200  6456 ?        S    03:12   0:00 bash\n",
            "root        1606  0.0  0.0  59040  6444 ?        R    03:12   0:00 ps -aux\n"
          ]
        }
      ]
    },
    {
      "cell_type": "code",
      "source": [
        "%%bash\n",
        "#This does not produce output in terminal.\n",
        "ping www.google.com  >> abc.txt\n",
        "cat abc.txt"
      ],
      "metadata": {
        "colab": {
          "base_uri": "https://localhost:8080/"
        },
        "id": "lY5xZdvsRAN3",
        "outputId": "da5a0db8-941f-4abd-edb5-1abd328bb68f"
      },
      "execution_count": null,
      "outputs": [
        {
          "output_type": "stream",
          "name": "stdout",
          "text": [
            "Process is interrupted.\n"
          ]
        }
      ]
    },
    {
      "cell_type": "code",
      "source": [
        "%%bash\n",
        "head -10 abc.txt"
      ],
      "metadata": {
        "colab": {
          "base_uri": "https://localhost:8080/"
        },
        "id": "lJTbjQmPRjFz",
        "outputId": "9a545d51-961f-474d-b2f1-45162db54cc3"
      },
      "execution_count": null,
      "outputs": [
        {
          "output_type": "stream",
          "name": "stdout",
          "text": [
            "PING www.google.com (209.85.147.99) 56(84) bytes of data.\n",
            "64 bytes from jg-in-f99.1e100.net (209.85.147.99): icmp_seq=1 ttl=114 time=0.832 ms\n",
            "64 bytes from jg-in-f99.1e100.net (209.85.147.99): icmp_seq=2 ttl=114 time=0.788 ms\n",
            "64 bytes from jg-in-f99.1e100.net (209.85.147.99): icmp_seq=3 ttl=114 time=0.891 ms\n",
            "64 bytes from jg-in-f99.1e100.net (209.85.147.99): icmp_seq=4 ttl=114 time=1.10 ms\n",
            "\n",
            "--- www.google.com ping statistics ---\n",
            "4 packets transmitted, 4 received, 0% packet loss, time 3043ms\n",
            "rtt min/avg/max/mdev = 0.788/0.904/1.106/0.123 ms\n",
            "PING www.google.com (142.251.6.147) 56(84) bytes of data.\n"
          ]
        }
      ]
    },
    {
      "cell_type": "code",
      "source": [
        "%%bash\n",
        "df"
      ],
      "metadata": {
        "colab": {
          "base_uri": "https://localhost:8080/"
        },
        "id": "6_Ulqkz9R2JU",
        "outputId": "5c64fdfd-a1f8-4714-e9c8-b7acd57cfa50"
      },
      "execution_count": null,
      "outputs": [
        {
          "output_type": "stream",
          "name": "stdout",
          "text": [
            "Filesystem     1K-blocks     Used Available Use% Mounted on\n",
            "overlay        112947452 43778028  69153040  39% /\n",
            "tmpfs              65536        0     65536   0% /dev\n",
            "shm              5989376        0   5989376   0% /dev/shm\n",
            "/dev/root        2003760  1167556    836204  59% /sbin/docker-init\n",
            "tmpfs            6651460       28   6651432   1% /var/colab\n",
            "/dev/sda1       84611628 47717084  36878160  57% /etc/hosts\n",
            "tmpfs            6651460        0   6651460   0% /proc/acpi\n",
            "tmpfs            6651460        0   6651460   0% /proc/scsi\n",
            "tmpfs            6651460        0   6651460   0% /sys/firmware\n"
          ]
        }
      ]
    },
    {
      "cell_type": "code",
      "source": [
        "%%bash\n",
        "#To grab 2 iterations of top command, execute\n",
        "top -b -n 2 > top.txt\n",
        "less top.txt\n",
        "#https://www.tecmint.com/save-top-command-output-to-a-file/ "
      ],
      "metadata": {
        "colab": {
          "base_uri": "https://localhost:8080/"
        },
        "id": "BKXWeVMbR-i_",
        "outputId": "b1fd63d5-e740-4232-f4fe-c5c47e13d64d"
      },
      "execution_count": null,
      "outputs": [
        {
          "output_type": "stream",
          "name": "stdout",
          "text": [
            "top - 03:24:34 up 30 min,  0 users,  load average: 0.00, 0.02, 0.07\n",
            "Tasks:  11 total,   1 running,   9 sleeping,   0 stopped,   1 zombie\n",
            "%Cpu(s):  3.4 us,  1.5 sy,  0.0 ni, 94.4 id,  0.6 wa,  0.0 hi,  0.1 si,  0.0 st\n",
            "KiB Mem : 13302920 total,  9886096 free,   568068 used,  2848756 buff/cache\n",
            "KiB Swap:        0 total,        0 free,        0 used. 12467900 avail Mem \n",
            "\n",
            "    PID USER      PR  NI    VIRT    RES    SHR S  %CPU %MEM     TIME+ COMMAND\n",
            "      7 root      20   0  344420  55176  32816 S  13.3  0.4   0:04.66 node\n",
            "     81 root      20   0  128668  16092   5488 S   6.7  0.1   0:05.45 python3\n",
            "      1 root      20   0     992      4      0 S   0.0  0.0   0:00.55 docker-i+\n",
            "     18 root      20   0   35892   4760   3656 S   0.0  0.0   0:00.62 tail\n",
            "     31 root      20   0       0      0      0 Z   0.0  0.0   0:06.27 python3\n",
            "     32 root      20   0  162452  41060  13000 S   0.0  0.3   0:00.47 colab-fi+\n",
            "     45 root      20   0  194928  60788  13704 S   0.0  0.5   0:05.48 jupyter-+\n",
            "     46 root      20   0  708200  10892   4500 S   0.0  0.1   0:02.81 dap_mult+\n",
            "     61 root      20   0  762152 155904  48644 S   0.0  1.2   0:16.41 python3\n",
            "   1761 root      20   0   39196   6588   5096 S   0.0  0.0   0:00.00 bash\n",
            "   1762 root      20   0   63188   6796   5136 R   0.0  0.1   0:00.00 top\n",
            "\n",
            "top - 03:24:37 up 30 min,  0 users,  load average: 0.00, 0.02, 0.07\n",
            "Tasks:  11 total,   1 running,   9 sleeping,   0 stopped,   1 zombie\n",
            "%Cpu(s):  2.2 us,  0.8 sy,  0.0 ni, 96.8 id,  0.0 wa,  0.0 hi,  0.2 si,  0.0 st\n",
            "KiB Mem : 13302920 total,  9885576 free,   568564 used,  2848780 buff/cache\n",
            "KiB Swap:        0 total,        0 free,        0 used. 12467396 avail Mem \n",
            "\n",
            "    PID USER      PR  NI    VIRT    RES    SHR S  %CPU %MEM     TIME+ COMMAND\n",
            "     61 root      20   0  762152 155904  48644 S   1.0  1.2   0:16.44 python3\n",
            "      7 root      20   0  344420  55440  32816 S   0.3  0.4   0:04.67 node\n",
            "     81 root      20   0  128668  16092   5488 S   0.3  0.1   0:05.46 python3\n",
            "      1 root      20   0     992      4      0 S   0.0  0.0   0:00.55 docker-i+\n",
            "     18 root      20   0   35892   4760   3656 S   0.0  0.0   0:00.62 tail\n",
            "     31 root      20   0       0      0      0 Z   0.0  0.0   0:06.27 python3\n",
            "     32 root      20   0  162452  41060  13000 S   0.0  0.3   0:00.47 colab-fi+\n",
            "     45 root      20   0  194928  60788  13704 S   0.0  0.5   0:05.48 jupyter-+\n",
            "     46 root      20   0  708200  10892   4500 S   0.0  0.1   0:02.81 dap_mult+\n",
            "   1761 root      20   0   39196   6588   5096 S   0.0  0.0   0:00.00 bash\n",
            "   1762 root      20   0   63188   6796   5136 R   0.0  0.1   0:00.00 top\n"
          ]
        }
      ]
    },
    {
      "cell_type": "code",
      "source": [
        "%%bash\n",
        "free"
      ],
      "metadata": {
        "colab": {
          "base_uri": "https://localhost:8080/"
        },
        "id": "rEGVunX6TiOT",
        "outputId": "226de737-5653-464b-f99c-c848254ba86a"
      },
      "execution_count": null,
      "outputs": [
        {
          "output_type": "stream",
          "name": "stdout",
          "text": [
            "              total        used        free      shared  buff/cache   available\n",
            "Mem:       13302920      569000     9884740        1168     2849180    12467040\n",
            "Swap:             0           0           0\n"
          ]
        }
      ]
    },
    {
      "cell_type": "code",
      "source": [
        ""
      ],
      "metadata": {
        "id": "flzNC30yUwqB"
      },
      "execution_count": null,
      "outputs": []
    }
  ]
}