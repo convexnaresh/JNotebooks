{
 "cells": [
  {
   "cell_type": "markdown",
   "metadata": {},
   "source": [
    "\\begin{equation}\n",
    "\\frac {\\partial u}{\\partial x} + \\frac{\\partial v}{\\partial y} = - \\, \\frac{\\partial w}{\\partial z}\n",
    "\\end{equation}\n",
    "\n",
    "\n",
    "$$e^{i\\pi} + 1 = 0$$"
   ]
  },
  {
   "cell_type": "markdown",
   "metadata": {},
   "source": [
    "## Allocating disk space\n",
    "\n",
    "![Image](https://www.pixelbeat.org/docs/disk/grub.png)\n",
    "\n",
    "### Partitioning schemes\n",
    "\n",
    "- HD are deivided into a number of partitions to manage files and folders effectively.\n",
    "- Partitions have drive letters so that OS identify them.\n",
    "- PC such as laptops, we can have partitions for /, /boot and swap.\n",
    "- Traditionally allocate small root filesystem, and separtate partitions for file system (FS) such as **/usr** and **/home**\n",
    "- Separate root FS if the root FS is small and lightly used, it is less likely to become corrupt when the system crashes. It also makes easier to recover crashed system.\n",
    "- Always avoid root FS get filled and cause a system crash.\n",
    "- Problem with many partitions: It splits the total amount of free disk space into many small pieces. This is called disk fragmentation.\n",
    "\n",
    "\n",
    "<div class=\"alert alert-block alert-info\">\n",
    "<b> Points to Remember</b> \n",
    "\n",
    "- `/bin`, `/etc`, `/dev`, `/initrd`, `/lib`, and `/sbin` must be under ```/``` FS because the contents are required at bootup.\n",
    "- Create a different/separate partitions for `/var` and `/tmp` because they are variable in size and is used by different processes as needed.\n",
    ".\n",
    "</div>\n",
    "\n",
    "\n",
    "***\n",
    "**Avoiding Disk Fragementation**\n",
    "\n",
    "- To avoid such fragmentation, we create logical volumns or logical partitions."
   ]
  },
  {
   "cell_type": "markdown",
   "metadata": {},
   "source": [
    "#### Logical Volume Manageer (LVM)\n",
    "- LVM is used to create logical disks that can be expanded dynaically as required.\n",
    "- First, a partition type 0x8e Linux LVM is created using LVM.\n",
    "- Add Physical Partitions to a Volume Group.\n",
    "- Break such partions into chunks or logical volumes.\n",
    "- Logical volumes can be can be formatted just like physical volumens.\n",
    "\n",
    "### Example of hard disk allocation\n",
    "\n",
    "***\n",
    "Partition table according to example hard disk partition.\n",
    "\n",
    "\n",
    "|Order | Size | Partition | Purpose\n",
    "|------|------------|---------|----------|\n",
    "3 | 9 GB | / root file system |\n",
    "2 | 1 GB | /swap partition| Used for dynmamic memory allocation; paging etc. It is usually allocated according to the computational need of an individual.\n",
    "1 | 128MG | /boot| Used to hold image of the OS for booting purpose. Create a separate partition to ensure FS will never get filled up and OS becomes always bootable.\n",
    "4 | 5 GB | /var file system | Used to hold variable data such as logs, emails, etc.\n",
    "5 | 15 GB | /home file system | Used to allocate to user's files such as /home/U1, /home/U2, etc.\n",
    "6 | 8 GB | /usr file system |\n",
    "7 | 2 GB | unused partition |\n",
    "NA| 40 GB | **Total** |\n",
    "\n",
    "\n",
    "***\n",
    "\n",
    "Note: Once you create partitions, you can use commands such as `lsblk`, `sudo fdisk -l`, `sudo sfdisk -l`, `parted`, etc. to view the partition table.\n",
    "\n",
    "Note: View the master boot record (MBR) using command as\n",
    "```sh\n",
    "    sudo dd bs=512 count=1 if=/dev/sda | od -Ax -tx1z -v \n",
    "    #here od is used to print hex of ASCII content of first sector of the drive /dev/sda/\n",
    "```\n",
    "\n",
    "<div class=\"alert alert-block alert-danger\">\n",
    "<b>Just don't:</b> User's /home directory is never formatted in times of system crash. It can be remounted without the data being lost after a reinstall.\n",
    "</div>\n",
    "\n",
    "\n",
    "#### Adding extra disk for Linux OS\n",
    "- Format the hard disk\n",
    "- Add commands to `/etc/fstab` to automatically mount the HD"
   ]
  },
  {
   "cell_type": "markdown",
   "metadata": {},
   "source": [
    "### Create and Format a Partition\n",
    "1. List existing partitions\n",
    "```sh\n",
    "    $sudo fdisk -l\n",
    "```\n",
    "![](https://phoenixnap.com/kb/wp-content/uploads/2021/04/list-partitions.png)\n",
    "\n",
    "\n",
    "2. Select storage disk\n",
    "```sh\n",
    "    $sudo fdisk /dev/sda1 #example drive /dev/sda1\n",
    "```\n",
    "![](https://phoenixnap.com/kb/wp-content/uploads/2021/04/select-storage-disk.png)\n",
    "\n",
    "\n",
    "3. Create a new partition\n",
    "\n",
    "Step 2 will open the `fdisk` prompt:\n",
    "\n",
    "    1. Run the  n command to create a new partition.\n",
    "\n",
    "    2. Select the partition number by typing the default number (2).\n",
    "\n",
    "    3. After that, you are asked for the starting and ending sector of your hard drive. It is best to type the default number in this section (3622912).\n",
    "\n",
    "    4. The last prompt is related to the size of the partition. You can choose to have several sectors or to set the size in megabytes or gigabytes. Type +2GB to set the size of the partition to 2GB (for example).\n",
    "    \n",
    "![](https://phoenixnap.com/kb/wp-content/uploads/2021/04/create-partition-fdisk.png)\n",
    "    \n",
    "    \n",
    "\n",
    "4. Write on Disk \n",
    "\n",
    "To write the changes on disk, run the 'w' command.\n",
    "\n",
    "   ![](https://phoenixnap.com/kb/wp-content/uploads/2021/04/write-on-disk.png)\n",
    "\n",
    "5. Verify that partition is created by running the command.\n",
    "\n",
    "```sh\n",
    "    $sudo fdisk -l #View\n",
    "```\n",
    "You can see the partion /dev/sda2 has been crated.\n",
    "\n",
    "   ![](https://phoenixnap.com/kb/wp-content/uploads/2021/04/verify-partiton.png)\n",
    "\n",
    "\n",
    "6. Format the partition.\n",
    "\n",
    "Once a partition has been created with the parted of fdisk command, format it before using it.\n",
    "\n",
    "Format the partition by running the following command:\n",
    "```sh\n",
    "    $sudo mkfs -t ext4 /dev/sdb2\n",
    "```\n",
    "   ![](https://phoenixnap.com/kb/wp-content/uploads/2021/04/format-partition.png)\n",
    "\n",
    "\n",
    "7. Mount the partition\n",
    "\n",
    "<div class=\"alert alert-block alert-success\">\n",
    "<b>Mounting</b> is a process by which the operating system makes files and directories on a storage device (such as hard drive, CD-ROM, or a network share) available for users to access via the computer's file system. Mounting ensures that OS recognizes the media's format and types. Mounting a memory device is about integrating it as part of the OS.\n",
    "</div>"
   ]
  },
  {
   "cell_type": "markdown",
   "metadata": {},
   "source": [
    "\n",
    "#### Mounting a disk or disk partition or any external media\n",
    "\n",
    "<img src=\"https://786647.smushcdn.com/1490832/wp-content/uploads/2020/10/Plug-USB-to-PC.png?lossy=1&strip=1&webp=1\" alt=\"Drawing\" style=\"width: 200px;length:300px;\"/>\n",
    "\n",
    "1. List the devices and Identify your device after connecting it to an OS.\n",
    "\n",
    "    ```sh\n",
    "            sudo fdisk -l #OR\n",
    "            sudo lsblk -l #OR\n",
    "            tail -f /var/log/messages -n 25 #View recently connected device.\n",
    "    ```\n",
    "        To identify the device, use its size, file type, etc. For example, it may be /dev/sdc1, /dev/sda2, etc.\n",
    "\n",
    "1. View the supported file system types\n",
    "\n",
    "```sh\n",
    "    sudo cat /proc/filesystems\n",
    "    sudo ls /lib/modules/$(uname -r)/kernel/fs\n",
    "```\n",
    "\n",
    "\n",
    "1. Create a mount point\n",
    "\n",
    "    ```sh\n",
    "        sudo mkdir -p /media/PenDrive\n",
    "    ```\n",
    "\n",
    "1. Mount the device to a mount point\n",
    "\n",
    "    ```sh\n",
    "        sudo mount /dev/sdc1 /media/PenDrive #OR\n",
    "        sudo mount -t auto /dev/sdc1 /media/PenDrive\n",
    "    ```\n",
    "\n",
    "1. Test the mount\n",
    "\n",
    "    For tht, run `mount` commnad and use grep to search your device.\n",
    "    ```sh\n",
    "        sudo mount | grep sdc1 #OR\n",
    "        lsblk #View it\n",
    "     ```\n",
    "     \n",
    "     If mounted properly, you can see your device information.\n",
    "\n",
    "1. Accessing files in the mounted file /media/PenDrive\n",
    "    ```sh\n",
    "    cd /media/PenDrive\n",
    "    \n",
    "    ```\n",
    "1. Unmount the device using `unmount` command.\n",
    "\n",
    "    ```sh\n",
    "    sudo umount /media/PenDrive\n",
    "    ```\n",
    "#### Permanent mount in Linux\n",
    "\n",
    "To mount your disk permanently, add following text into `/etc/fstab` configuration file.\n",
    "\n",
    "> <span style=\"color:red\">/dev/sdc1  /media/PenDrive  vfat  defaults  0</span>\n",
    "\n",
    "![](https://786647.smushcdn.com/1490832/wp-content/uploads/2020/10/Permanent-mount-696x182.png?lossy=1&strip=1&webp=1)\n",
    "\n",
    "\n",
    "\n",
    "<div class=\"alert alert-block alert-danger\">\n",
    "<b>Warning:</b> Mounting a device by its name is not best solution. So we have to use UUID of the device when mounting the device.\n",
    "</div>\n",
    "\n",
    "#### Find UUID of a device\n",
    "```sh\n",
    "    ls -l /dev/disk/by-uuid/*\n",
    "```\n",
    "> **output**\n",
    "\n",
    "![Image Showing UUID](https://786647.smushcdn.com/1490832/wp-content/uploads/2020/10/UUID--696x88.png?lossy=1&strip=1&webp=1)\n",
    "\n",
    "From the output of the ls command above, we can see the UUID number of our USB Drive (/dev/sdb) is 607F23B84180A238. Therefore, our mount line in the /etc/fstab config file will be as follows: Use UUID of the device when mounting in `/etc/fstab`\n",
    "> <span style=\"color:red\">/dev/disk/by-uuid/607F23...  /media/PenDrive  vfat  defaults  0</span>\n",
    "\n",
    "Finally, run `mount -a` to mount al not yet mounted devices.\n",
    "\n",
    "```sh\n",
    "    sudo mount -a\n",
    "```\n",
    "\n",
    "#### Format your device\n",
    "1. Identify your device correctly, and format it as:\n",
    "```sh\n",
    "sudo mkfs.ext4 /dev/sda1(or any number) #OR\n",
    "sudo mkfs -t ext4 /dev/sda1(or any number)\n",
    "```\n",
    "\n",
    "\n",
    "#### Saving disk space\n",
    "- Format paritions wisely while avoiding many fragmentations, and use suitable block size.\n",
    "- Avoid installing unnecessary programs.\n",
    "- Avoid installing/downloading documentations, fonts, libraries for programs.\n",
    "- Compress the packages using `gzip` or `zip`\n",
    "- Use tools such as DouBle system that compress all files and uncompress as programs need the files.\n",
    "-  Linux makes it possible to either temporarily mount a USB drive that we insert, or make a persistent mount of storage devices that we don’t plan on removing."
   ]
  },
  {
   "cell_type": "markdown",
   "metadata": {},
   "source": [
    "## View Mount Point of File System & Disk Partitions\n",
    "\n",
    "Use tools such as\n",
    "\n",
    "1. `df -lh`: Lists all mounted partitions on a System.\n",
    "2. `mount -l`: List all mounted partions on a system.\n",
    "3. `fdisk -l`: It is fixed disk command, it is used to list all partiions (list all block devices) from any device which contain a partition table (Example HD being used)\n",
    "- `sfdisk`: It is a partition table manipulator for linux\n",
    "    \n",
    "    **Examples:**\n",
    "    ```sh\n",
    "    - sudo sfdisk -l /dev/sda\n",
    "    - sudo sfdisk -lu /dev/sda\n",
    "    - sudo sfdisk -ls /dev/sda\n",
    "    ```\n",
    "    \n",
    "    ![title](https://www.tecmint.com/wp-content/uploads/2018/02/Fdisk-Partition-Tool.png)\n",
    "    \n",
    "4. `lsblk`\n",
    "\n",
    "<div class=\"alert alert-block alert-danger\">\n",
    "<b>Just don't:</b> The fdisk or sfdisk command will not list any partition size larger than 2TB. \n",
    "<b> Recommended commands </b> \n",
    "    \n",
    "    1.  df and lsblk\n",
    "    \n",
    "</div>"
   ]
  },
  {
   "cell_type": "code",
   "execution_count": 13,
   "metadata": {},
   "outputs": [
    {
     "name": "stdout",
     "output_type": "stream",
     "text": [
      "sysfs on /sys type sysfs (rw,nosuid,nodev,noexec,relatime)\r\n",
      "proc on /proc type proc (rw,nosuid,nodev,noexec,relatime)\r\n",
      "udev on /dev type devtmpfs (rw,nosuid,noexec,relatime,size=12177844k,nr_inodes=3044461,mode=755,inode64)\r\n",
      "devpts on /dev/pts type devpts (rw,nosuid,noexec,relatime,gid=5,mode=620,ptmxmode=000)\r\n",
      "tmpfs on /run type tmpfs (rw,nosuid,nodev,noexec,relatime,size=2444584k,mode=755,inode64)\r\n",
      "/dev/sda1 on / type ext4 (rw,relatime) [cloudimg-rootfs]\r\n",
      "securityfs on /sys/kernel/security type securityfs (rw,nosuid,nodev,noexec,relatime)\r\n",
      "tmpfs on /dev/shm type tmpfs (rw,nosuid,nodev,inode64)\r\n",
      "tmpfs on /run/lock type tmpfs (rw,nosuid,nodev,noexec,relatime,size=5120k,inode64)\r\n",
      "tmpfs on /sys/fs/cgroup type tmpfs (ro,nosuid,nodev,noexec,mode=755,inode64)\r\n"
     ]
    }
   ],
   "source": [
    "!mount -l | head -10"
   ]
  },
  {
   "cell_type": "markdown",
   "metadata": {},
   "source": [
    "### `lsblk` Command\n",
    "    \n",
    "- `lsblk`: Displays the output of both the commands such as `mount` and `fdisk`\n",
    "    - Other commands are:\n",
    "    ```sh\n",
    "    lsblk /dev/DEVICE\n",
    "    lsblk /dev/sda\n",
    "    lsblk -l\n",
    "    lsblk -t\n",
    "    lsblk -m\n",
    "    lsblk -d | grep disk\n",
    "    lsblk -o NAME,FSTYPE,SIZE,MOUNTPOINT\n",
    "    ```\n",
    "    - m: Show infor about linux permissions\n",
    "    - f: list info about Linux file systems\n",
    "    - l: force list format output option.\n",
    "    - d: Avoid printing holders.\n",
    "    - o: Display options"
   ]
  },
  {
   "cell_type": "code",
   "execution_count": 14,
   "metadata": {},
   "outputs": [
    {
     "name": "stdout",
     "output_type": "stream",
     "text": [
      "NAME   MAJ:MIN RM  SIZE RO TYPE MOUNTPOINT\r\n",
      "loop0    7:0    0 41.3M  1 loop /snap/certbot/1671\r\n",
      "loop1    7:1    0 48.9M  1 loop /snap/core18/2127\r\n",
      "loop2    7:2    0   49M  1 loop /snap/core18/2252\r\n",
      "loop3    7:3    0 57.4M  1 loop /snap/core20/1244\r\n",
      "loop4    7:4    0 57.5M  1 loop /snap/core20/1274\r\n",
      "loop5    7:5    0 60.4M  1 loop /snap/lxd/21544\r\n",
      "loop6    7:6    0 60.7M  1 loop /snap/lxd/21843\r\n",
      "loop7    7:7    0 20.6M  1 loop /snap/oracle-cloud-agent/27\r\n",
      "loop8    7:8    0   51M  1 loop /snap/snapcraft/6956\r\n",
      "loop9    7:9    0 20.6M  1 loop /snap/oracle-cloud-agent/29\r\n",
      "loop10   7:10   0 37.5M  1 loop /snap/snapd/14296\r\n",
      "loop11   7:11   0 36.5M  1 loop /snap/snapd/14063\r\n",
      "sda      8:0    0 46.6G  0 disk \r\n",
      "sda1     8:1    0 46.5G  0 part /\r\n",
      "sda15    8:15   0   99M  0 part /boot/efi\r\n"
     ]
    }
   ],
   "source": [
    "!lsblk -l #use options such as -m and -l for different information"
   ]
  },
  {
   "cell_type": "markdown",
   "metadata": {},
   "source": [
    "#### lsblkk output attributes\n",
    "\n",
    "In the above output, you can see all the logical partitions from sda1 till sda5 for my sda device. Here is what the seven columns indicate:\n",
    "\n",
    "- Name – Name of the devices\n",
    "- Maj:Min – Major and Min Device numbers\n",
    "- RM – Whether the device is removable(1) or not (0)\n",
    "- Size – Size of the device\n",
    "- RO – Is the device read-only(1) or not (0)\n",
    "- Type – Type of device, i.e, if it is a disk or partitions, etc.\n",
    "- MountPoint – The mount point of the device(if applicable)."
   ]
  },
  {
   "cell_type": "code",
   "execution_count": 15,
   "metadata": {},
   "outputs": [
    {
     "name": "stdout",
     "output_type": "stream",
     "text": [
      "NAME    FSTYPE    SIZE LABEL           MOUNTPOINT\r\n",
      "loop0   squashfs 41.3M                 /snap/certbot/1671\r\n",
      "loop1   squashfs 48.9M                 /snap/core18/2127\r\n",
      "loop2   squashfs   49M                 /snap/core18/2252\r\n",
      "loop3   squashfs 57.4M                 /snap/core20/1244\r\n",
      "loop4   squashfs 57.5M                 /snap/core20/1274\r\n",
      "loop5   squashfs 60.4M                 /snap/lxd/21544\r\n",
      "loop6   squashfs 60.7M                 /snap/lxd/21843\r\n",
      "loop7   squashfs 20.6M                 /snap/oracle-cloud-agent/27\r\n",
      "loop8   squashfs   51M                 /snap/snapcraft/6956\r\n",
      "loop9   squashfs 20.6M                 /snap/oracle-cloud-agent/29\r\n",
      "loop10  squashfs 37.5M                 /snap/snapd/14296\r\n",
      "loop11  squashfs 36.5M                 /snap/snapd/14063\r\n",
      "sda              46.6G                 \r\n",
      "├─sda1  ext4     46.5G cloudimg-rootfs /\r\n",
      "└─sda15 vfat       99M UEFI            /boot/efi\r\n"
     ]
    }
   ],
   "source": [
    "!lsblk -f -m -o NAME,FSTYPE,SIZE,LABEL,MOUNTPOINT"
   ]
  },
  {
   "cell_type": "markdown",
   "metadata": {},
   "source": [
    "***\n",
    "###  `fdisk` command\n",
    "\n",
    "- `fdisk -l`: It is fixed disk command, it is used to list all partiions (list all block devices) from any device which contain a partition table (Example HD being used)\n",
    "```sh \n",
    "sudo fdisk -l\n",
    "```\n",
    "***"
   ]
  },
  {
   "cell_type": "markdown",
   "metadata": {},
   "source": [
    "### ```parted``` Command\n"
   ]
  },
  {
   "cell_type": "markdown",
   "metadata": {},
   "source": [
    "![title](https://www.tecmint.com/wp-content/uploads/2018/02/Parted-Partition-Program.png)\n",
    "\n",
    "- It supports multiple partition formats such as MS-DOS, GPT, BSD, etc.\n",
    "- Add, delete, shrink and extend disk partitions with the FS is suppoted.\n",
    "- It can be used to create space for installing new OS\n",
    "\n",
    "```sh\n",
    "#Enter parted command and select unit TB or GB, and print\n",
    "sudo parted /sda1\n",
    "\n",
    ">unit TB\n",
    ">unit GB\n",
    ">print\n",
    "\n",
    "```\n",
    "\n",
    "```sh\n",
    "\n",
    "#List all partitions layout on all block devices\n",
    "sudo parted -l\n",
    "\n",
    "```\n",
    "***"
   ]
  },
  {
   "cell_type": "markdown",
   "metadata": {},
   "source": [
    "***\n",
    "### `df` command\n",
    "\n",
    "- `df` prints a summary of file system disk space usage on the terminal. In the command below, -hT switch enables reporting of the disk size, used space, available space and used space percentages in human-readable format.\n",
    "\n",
    "***"
   ]
  },
  {
   "cell_type": "code",
   "execution_count": 16,
   "metadata": {},
   "outputs": [
    {
     "name": "stdout",
     "output_type": "stream",
     "text": [
      "Filesystem     Type      Size  Used Avail Use% Mounted on\n",
      "udev           devtmpfs   12G     0   12G   0% /dev\n",
      "tmpfs          tmpfs     2.4G  3.3M  2.4G   1% /run\n",
      "/dev/sda1      ext4       45G   19G   27G  42% /\n",
      "tmpfs          tmpfs      12G  8.0K   12G   1% /dev/shm\n",
      "tmpfs          tmpfs     5.0M     0  5.0M   0% /run/lock\n",
      "tmpfs          tmpfs      12G     0   12G   0% /sys/fs/cgroup\n",
      "/dev/loop0     squashfs   42M   42M     0 100% /snap/certbot/1671\n",
      "/dev/loop2     squashfs   49M   49M     0 100% /snap/core18/2252\n",
      "/dev/loop1     squashfs   49M   49M     0 100% /snap/core18/2127\n",
      "/dev/loop3     squashfs   58M   58M     0 100% /snap/core20/1244\n",
      "/dev/loop4     squashfs   58M   58M     0 100% /snap/core20/1274\n",
      "/dev/loop5     squashfs   61M   61M     0 100% /snap/lxd/21544\n",
      "/dev/loop6     squashfs   61M   61M     0 100% /snap/lxd/21843\n",
      "/dev/sda15     vfat       98M  290K   98M   1% /boot/efi\n",
      "/dev/loop7     squashfs   21M   21M     0 100% /snap/oracle-cloud-agent/27\n",
      "/dev/loop8     squashfs   51M   51M     0 100% /snap/snapcraft/6956\n",
      "/dev/loop9     squashfs   21M   21M     0 100% /snap/oracle-cloud-agent/29\n",
      "/dev/loop10    squashfs   38M   38M     0 100% /snap/snapd/14296\n",
      "/dev/loop11    squashfs   37M   37M     0 100% /snap/snapd/14063\n",
      "tmpfs          tmpfs     2.4G  8.0K  2.4G   1% /run/user/1002\n"
     ]
    }
   ],
   "source": [
    "%%bash \n",
    "df -hT"
   ]
  },
  {
   "cell_type": "markdown",
   "metadata": {},
   "source": [
    "### Important Points\n",
    "<div class=\"alert alert-block alert-warning\">\n",
    "<b>What if a disk/partition is running out of space in Linux?</b>\n",
    "    \n",
    "- First, make a backup of all your important files on the system using any of the Linux system backup tools.\n",
    "    \n",
    "- Check which files or directories are occupying the biggest amount of space on the disk(s) using the `du` command.\n",
    "    \n",
    "- Then delete from the storage disk(s), any files that are no longer important or that you will not use in the future with the help of `rm` command or you can `fslint` tool to find and delete unwanted files in Linux.\n",
    "    \n",
    "- If your root partition is getting full, you can resize root partition using LVM.\n",
    "</div>\n",
    "***"
   ]
  },
  {
   "cell_type": "markdown",
   "metadata": {},
   "source": [
    "## GUI Tools\n",
    "- Linux desktop comes with \"Disks and Storage\" utility to show disk information and perform every tasks.\n",
    "- Open Disks from the Activities overview under Gnome\n",
    "\n",
    "![title](https://www.cyberciti.biz/media/new/faq/2012/02/Linux-GNOME-Desktop-NVMe-PCI-SSD.jpg)\n",
    "\n",
    "### Gparted \n",
    "- IT is free, cross platform and advanced graphical disk partion manager.\n",
    "- It is available for Linux OS, Mac OS X and Windows OS\n",
    "\n",
    "![title](https://www.tecmint.com/wp-content/uploads/2018/02/GParted-Partition-Manager-and-Editor.png)\n"
   ]
  },
  {
   "cell_type": "markdown",
   "metadata": {},
   "source": [
    "### Some commands and outputs"
   ]
  },
  {
   "cell_type": "code",
   "execution_count": 17,
   "metadata": {},
   "outputs": [
    {
     "name": "stdout",
     "output_type": "stream",
     "text": [
      "9p\r\n",
      "adfs\r\n",
      "affs\r\n",
      "afs\r\n",
      "aufs\r\n",
      "autofs\r\n",
      "befs\r\n",
      "bfs\r\n",
      "binfmt_misc.ko\r\n",
      "btrfs\r\n"
     ]
    }
   ],
   "source": [
    "!ls /lib/modules/$(uname -r)/kernel/fs/ | head -10"
   ]
  },
  {
   "cell_type": "code",
   "execution_count": 18,
   "metadata": {},
   "outputs": [
    {
     "name": "stdout",
     "output_type": "stream",
     "text": [
      "nodev\tsysfs\r\n",
      "nodev\ttmpfs\r\n",
      "nodev\tbdev\r\n",
      "nodev\tproc\r\n",
      "nodev\tcgroup\r\n",
      "nodev\tcgroup2\r\n",
      "nodev\tcpuset\r\n",
      "nodev\tdevtmpfs\r\n",
      "nodev\tconfigfs\r\n",
      "nodev\tdebugfs\r\n"
     ]
    }
   ],
   "source": [
    "!cat /proc/filesystems | head -10"
   ]
  },
  {
   "cell_type": "markdown",
   "metadata": {},
   "source": [
    "### Mount a drive using GUI\n",
    "\n",
    "1. Open Disks Applications\n",
    "\n",
    "![title](https://www.cyberciti.biz/media/new/faq/2012/02/Linux-GNOME-Desktop-NVMe-PCI-SSD.jpg)\n",
    "\n",
    "1. Select the device \"Not Mounted\" status.\n",
    "\n",
    "    ![Image of Disk Selection](https://fossbytes.com/wp-content/uploads/2020/05/Device-Not-Mounted-747x420.png)\n",
    "\n",
    "1. "
   ]
  },
  {
   "cell_type": "markdown",
   "metadata": {},
   "source": [
    "## References:\n",
    "\n",
    "&#9634; https://www.w3schools.com/charsets/ref_utf_geometric.asp\n",
    "\n",
    "&#9634; https://towardsdatascience.com/10-practical-tips-you-need-to-know-to-personalize-jupyter-notebook-fbd202777e20\n",
    "\n",
    "&#9634; https://www.w3schools.com/charsets/ref_utf_geometric.asp\n",
    "\n",
    "&#9634; https://towardsdatascience.com/10-practical-tips-you-need-to-know-to-personalize-jupyter-notebook-fbd202777e20\n",
    "\n",
    "&#9634; https://medium.com/game-of-data/12-things-to-know-about-jupyter-notebook-markdown-3f6cef811707\n",
    "\n",
    "&#9634; https://tldp.org/HOWTO/LVM-HOWTO/\n",
    "\n",
    "&#9634; https://phoenixnap.com/kb/linux-create-partition\n",
    "\n",
    "**To explore**\n",
    "\n",
    "&#9634; https://tldp.org/LDP/lame/LAME/linux-admin-made-easy/install-partitioning.html\n",
    "\n",
    "\n",
    "\n",
    "\n",
    "&#9634; https://www.linuxvasanth.com/create-partition-linux/"
   ]
  },
  {
   "cell_type": "markdown",
   "metadata": {},
   "source": [
    "## MarkDown Examples\n",
    "\n",
    "<div class=\"alert alert-block alert-warning\">\n",
    "<b>Example:</b> Use yellow boxes for examples that are not \n",
    "inside code cells, or use for mathematical formulas if needed.\n",
    "</div>\n",
    "\n",
    "<div class=\"alert alert-block alert-success\">\n",
    "<b>Up to you:</b> Use green boxes sparingly, and only for some specific \n",
    "purpose that the other boxes can't cover. For example, if you have a lot \n",
    "of related content to link to, maybe you decide to use green boxes for \n",
    "related links from each section of a notebook.\n",
    "</div>\n",
    "\n",
    "<div class=\"alert alert-block alert-danger\">\n",
    "<b>Just don't:</b> In general, avoid the red boxes. These should only be\n",
    "used for actions that might cause data loss or another major issue.\n",
    "</div>\n",
    "<br>\n",
    "\n",
    "<span style='color:green'> message/text </span>\n",
    "\n",
    "Example: \n",
    "<span style='color:Blue'> Blue is my favorite color.  </span>\n",
    "[Google Search ](https://www.google.com)\n",
    "\n",
    "\n",
    "\n",
    "##Test\n",
    "\n",
    "<div style=\"max-width:500px;margin-left: 0; margin-right: 0;\"\n",
    ">\n",
    "<img src=\"https://linuxbsdos.com/wp-content/uploads/2014/11/UbuntuPart.png\"/>\n",
    "</div>\n",
    "<br>\n",
    "\n",
    "<div>\n",
    "<img src=\"https://linuxbsdos.com/wp-content/uploads/2014/11/UbuntuPart.png\" width=\"600\" height=\"300\"/>\n",
    "</div>"
   ]
  },
  {
   "cell_type": "markdown",
   "metadata": {},
   "source": [
    "#Note: loop devive are virtual devices.\n",
    "Color Notes: https://encycolorpedia.com/dd4814"
   ]
  },
  {
   "cell_type": "markdown",
   "metadata": {},
   "source": [
    "#### Change Themes \n",
    "```sh\n",
    "    pip install jupyterthemes\n",
    "    jt -l #list themes\n",
    "    jtn -r #reset themes to default\n",
    "    jt -t <themename>\n",
    "```"
   ]
  },
  {
   "cell_type": "code",
   "execution_count": 3,
   "metadata": {},
   "outputs": [
    {
     "name": "stdout",
     "output_type": "stream",
     "text": [
      "total 12736\r\n",
      "-rw-rw-r--  1 nadh nadh      130 Dec 20 03:21 #testemacs.txt#\r\n",
      "drwxrwxr-x  4 nadh nadh     4096 Jan 15 01:36 .\r\n",
      "drwxr-xr-x 36 nadh nadh     4096 Jan 15 01:44 ..\r\n",
      "-rw-rw-r--  1 nadh nadh    24078 Dec 20 04:15 .ipynb\r\n",
      "drwxrwxr-x  2 nadh nadh     4096 Jan 13 22:41 .ipynb_checkpoints\r\n",
      "-rw-r--r--  1 nadh nadh    12288 Jan 12 18:25 .update_balance.sh.swp\r\n",
      "-rw-rw-r--  1 nadh nadh    28877 Dec 20 22:18 1-network-administration.ipynb\r\n",
      "-rw-rw-r--  1 nadh nadh    10228 Dec 20 03:21 2-ftp-server-administration.ipynb\r\n",
      "-rw-rw-r--  1 nadh nadh    25872 Dec 20 03:21 207-final-exam.tar.xz\r\n"
     ]
    }
   ],
   "source": [
    "!ls -la | head"
   ]
  },
  {
   "cell_type": "markdown",
   "metadata": {},
   "source": [
    "#### How to make bootable stick?\n",
    "The dd program included with most Linux distributions automatically partitions and formats a USB drive and copies a disk image to the partition, leaving the unused space available for storage. GUI software in Linux and Windows performs the same task with\n",
    "a helpful wizard to walk you through the steps.\n",
    "\n",
    "\n",
    "The quickest way to make a bootable flash drive in Linux isto run a command:\n",
    "```sh\n",
    "sudo dd if=/home/username/Downloads/ubuntu.iso of=/dev/sdb\n",
    "```\n",
    "- Replace the path of your ISO and replace your USB drive's block ID for \"/dev/sdb\"\n",
    "\n",
    "- Don't append a partition number to the block ID -- such as /dev/sdb1 -- because `dd` creates a new partition. \n",
    "- Alternatively, use a GUI program such as ***Startup Disk Creator***, included with Ubuntu, or UNetbootin, available in the Ubuntu repositories. \n",
    "- For windows, we have GUI tools such as: Media Creating Tool by Microsoft, Refus, DiskPart, etc.\n"
   ]
  },
  {
   "cell_type": "code",
   "execution_count": null,
   "metadata": {},
   "outputs": [],
   "source": []
  }
 ],
 "metadata": {
  "kernelspec": {
   "display_name": "Python 3",
   "language": "python",
   "name": "python3"
  },
  "language_info": {
   "codemirror_mode": {
    "name": "ipython",
    "version": 3
   },
   "file_extension": ".py",
   "mimetype": "text/x-python",
   "name": "python",
   "nbconvert_exporter": "python",
   "pygments_lexer": "ipython3",
   "version": "3.8.10"
  }
 },
 "nbformat": 4,
 "nbformat_minor": 4
}
